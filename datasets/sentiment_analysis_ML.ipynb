{
 "cells": [
  {
   "cell_type": "code",
   "execution_count": 1,
   "metadata": {},
   "outputs": [],
   "source": [
    "from utils import *\n",
    "from config_file import DATASETS_PATH, DOWNLOAD_ROOT, DOWNLOAD_URL, TWEETS_PATH"
   ]
  },
  {
   "cell_type": "code",
   "execution_count": 2,
   "metadata": {},
   "outputs": [],
   "source": [
    "# To support both python 2 and python 3\n",
    "from __future__ import division, print_function, unicode_literals\n",
    "\n",
    "# Common imports\n",
    "import numpy as np\n",
    "import os\n",
    "\n",
    "# to make this notebook's output stable across runs\n",
    "np.random.seed(42)\n",
    "\n",
    "# To plot pretty figures\n",
    "%matplotlib inline\n",
    "\n",
    "import matplotlib\n",
    "import matplotlib.pyplot as plt\n",
    "from mpl_toolkits.basemap import Basemap\n",
    "plt.rcParams['axes.labelsize'] = 14\n",
    "plt.rcParams['xtick.labelsize'] = 12\n",
    "plt.rcParams['ytick.labelsize'] = 12\n",
    "\n",
    "# Where to save the figures\n",
    "PROJECT_ROOT_DIR = \".\"\n",
    "PROJECT_ID = \"sentiment_analysis_ML\"\n",
    "\n",
    "if not os.path.isdir(\"images\"):\n",
    "    os.makedirs(\"images\")\n",
    "        \n",
    "if not os.path.isdir(\"models\"):\n",
    "    os.makedirs(\"models\")\n",
    "    \n",
    "MODEL_PATH = os.path.join('models', PROJECT_ID)\n",
    "        \n",
    "IMAGE_PATH = os.path.join(\"images\", PROJECT_ID)\n",
    "\n",
    "if not os.path.isdir(MODEL_PATH):\n",
    "        os.makedirs(MODEL_PATH)\n",
    "\n",
    "if not os.path.isdir(IMAGE_PATH):\n",
    "        os.makedirs(IMAGE_PATH)\n",
    "        \n",
    "MODELS_STORE_PATH = os.path.join(PROJECT_ROOT_DIR, MODEL_PATH)\n",
    "IMAGES_STORE_PATH = os.path.join(PROJECT_ROOT_DIR, IMAGE_PATH)\n",
    "\n",
    "def save_model(model_name, model):\n",
    "    path = os.path.join(MODELS_STORE_PATH, model_name)\n",
    "    model.save(path)\n",
    "    \n",
    "def load_model(model_path, model):\n",
    "    return model.load(model_path)\n",
    "\n",
    "def save_fig(fig_id, tight_layout=True, fig_extension=\"png\", resolution=300):\n",
    "    path = os.path.join(IMAGES_STORE_PATH, fig_id + \".\" + fig_extension)\n",
    "    print(\"Saving figure\", fig_id)\n",
    "    if tight_layout:\n",
    "        plt.tight_layout()\n",
    "    plt.savefig(path, format=fig_extension, dpi=resolution)\n",
    "\n",
    "# Ignore useless warnings (see SciPy issue #5998)\n",
    "import warnings\n",
    "warnings.filterwarnings(action=\"ignore\", message=\"^internal gelsd\")"
   ]
  },
  {
   "cell_type": "code",
   "execution_count": 3,
   "metadata": {},
   "outputs": [],
   "source": [
    "import pandas as pd\n",
    "import pyspark\n",
    "from pyspark.sql import SparkSession\n",
    "from pyspark.sql import SQLContext\n",
    "import string\n",
    "import unicodedata\n",
    "from pyspark.sql.functions import *\n",
    "from pyspark.sql.types import *\n",
    "from pyspark.ml.feature import Tokenizer, RegexTokenizer, CountVectorizer, Word2Vec, IDF\n",
    "from pyspark.ml.feature import  IndexToString\n",
    "from pyspark.ml.feature import StringIndexer, StopWordsRemover, VectorAssembler, VectorIndexer\n",
    "from pyspark.ml.classification import LinearSVC, NaiveBayes, MultilayerPerceptronClassifier\n",
    "from pyspark.ml.classification import LogisticRegression\n",
    "from pyspark.ml.classification import LinearSVCModel, NaiveBayesModel, LogisticRegressionModel\n",
    "from pyspark.ml.evaluation import MulticlassClassificationEvaluator\n",
    "from pyspark.ml import Pipeline\n",
    "from pyspark.ml.linalg import Vector\n",
    "import re\n",
    "from pyspark.conf import SparkConf\n",
    "from pyspark.sql import functions as F\n",
    "import string\n",
    "import csv\n",
    "from pyspark.sql.types import StringType, TimestampType\n",
    "from pyspark.sql.types import ArrayType"
   ]
  },
  {
   "cell_type": "code",
   "execution_count": 4,
   "metadata": {},
   "outputs": [],
   "source": [
    "spark = SparkSession.builder\\\n",
    "    .master(\"local[3]\")\\\n",
    "    .appName(\"nlp\")\\\n",
    "    .config(\"spark.executor.memory\", \"128g\")\\\n",
    "    .config(\"spark.driver.memory\", \"128g\")\\\n",
    "    .config(\"spark.memory.offHeap.enabled\",True) \\\n",
    "    .config(\"spark.memory.offHeap.size\",\"64g\")\\\n",
    "    .config(\"spark.debug.maxToStringFields\",\"256\")\\\n",
    "    .getOrCreate()"
   ]
  },
  {
   "cell_type": "markdown",
   "metadata": {},
   "source": [
    "## Training the model "
   ]
  },
  {
   "cell_type": "code",
   "execution_count": 7,
   "metadata": {},
   "outputs": [],
   "source": [
    "extract_tar_file(tgz_name= \"training_data.tar.gz\")"
   ]
  },
  {
   "cell_type": "code",
   "execution_count": 8,
   "metadata": {},
   "outputs": [],
   "source": [
    "csv_path = os.path.join(DATASETS_PATH, 'training_data/training_text_classification.csv')\n",
    "training_df = spark.read.format(\"libsvm\")\\\n",
    "        .csv(csv_path, inferSchema=True, encoding = 'ISO-8859-1', header=False)\\\n",
    "        .selectExpr('_c0 as label', '_c5 as text')"
   ]
  },
  {
   "cell_type": "code",
   "execution_count": 9,
   "metadata": {},
   "outputs": [
    {
     "data": {
      "text/plain": [
       "1600000"
      ]
     },
     "execution_count": 9,
     "metadata": {},
     "output_type": "execute_result"
    }
   ],
   "source": [
    "training_df.count()"
   ]
  },
  {
   "cell_type": "code",
   "execution_count": 10,
   "metadata": {},
   "outputs": [],
   "source": [
    "udfhttps=udf(lambda text: remove_https(text), StringType())\n",
    "udfNormalizeData=udf(lambda text: normalizeData(text), StringType())\n",
    "udfDecoding=udf(lambda text: clean_latin(text), StringType())"
   ]
  },
  {
   "cell_type": "code",
   "execution_count": 11,
   "metadata": {},
   "outputs": [],
   "source": [
    "training_df= training_df.withColumn(\"text\", udfhttps(training_df[\"text\"]))\n",
    "training_df = training_df.withColumn(\"text\", udfNormalizeData(training_df[\"text\"]))\n",
    "training_df= training_df.withColumn(\"text\", udfDecoding(training_df[\"text\"]))\n",
    "training_df = lower_words(training_df)"
   ]
  },
  {
   "cell_type": "code",
   "execution_count": 12,
   "metadata": {},
   "outputs": [
    {
     "name": "stdout",
     "output_type": "stream",
     "text": [
      "+-----+--------------------+\n",
      "|label|                text|\n",
      "+-----+--------------------+\n",
      "|    0| switchfoot   aww...|\n",
      "|    0|is upset that he ...|\n",
      "+-----+--------------------+\n",
      "only showing top 2 rows\n",
      "\n"
     ]
    }
   ],
   "source": [
    "training_df.show(2)"
   ]
  },
  {
   "cell_type": "code",
   "execution_count": 13,
   "metadata": {},
   "outputs": [],
   "source": [
    "training_df = training_df.withColumn('length',length(training_df['text']))"
   ]
  },
  {
   "cell_type": "code",
   "execution_count": 14,
   "metadata": {},
   "outputs": [],
   "source": [
    "training_df = training_df.withColumn(\"label\", \\\n",
    "              when(training_df[\"label\"] == 4, 1).otherwise(training_df[\"label\"]))"
   ]
  },
  {
   "cell_type": "code",
   "execution_count": 15,
   "metadata": {},
   "outputs": [
    {
     "data": {
      "text/plain": [
       "800000"
      ]
     },
     "execution_count": 15,
     "metadata": {},
     "output_type": "execute_result"
    }
   ],
   "source": [
    "training_df.where((col(\"label\") == 0.0)).count()"
   ]
  },
  {
   "cell_type": "code",
   "execution_count": 16,
   "metadata": {},
   "outputs": [
    {
     "data": {
      "text/plain": [
       "800000"
      ]
     },
     "execution_count": 16,
     "metadata": {},
     "output_type": "execute_result"
    }
   ],
   "source": [
    "training_df.where((col(\"label\") == 1.0)).count()"
   ]
  },
  {
   "cell_type": "code",
   "execution_count": 17,
   "metadata": {},
   "outputs": [
    {
     "name": "stdout",
     "output_type": "stream",
     "text": [
      "+-----+--------------------+------+\n",
      "|label|                text|length|\n",
      "+-----+--------------------+------+\n",
      "|    0| switchfoot   aww...|    89|\n",
      "|    0|is upset that he ...|   110|\n",
      "+-----+--------------------+------+\n",
      "only showing top 2 rows\n",
      "\n"
     ]
    }
   ],
   "source": [
    "training_df.show(2)"
   ]
  },
  {
   "cell_type": "code",
   "execution_count": 18,
   "metadata": {},
   "outputs": [],
   "source": [
    "acc_eval = MulticlassClassificationEvaluator()"
   ]
  },
  {
   "cell_type": "markdown",
   "metadata": {},
   "source": [
    "# Preparing data for Logistic Regression and SVM"
   ]
  },
  {
   "cell_type": "code",
   "execution_count": 19,
   "metadata": {},
   "outputs": [],
   "source": [
    "tokenizer = Tokenizer(inputCol=\"text\", outputCol=\"token_text\")\n",
    "stopremove = StopWordsRemover(inputCol='token_text',outputCol='stop_tokens')\n",
    "count_vec = CountVectorizer(inputCol='stop_tokens',outputCol='features')\n",
    "# Automatically identify categorical features, and index them.\n",
    "# We specify maxCategories so features with > 4 distinct values are treated as continuous.\n",
    "#featureIndexer =VectorIndexer(inputCol=\"features\", outputCol=\"indexedFeatures\", maxCategories=4)\n",
    "# Index labels, adding metadata to the label column.\n",
    "# Fit on whole dataset to include all labels in index.\n",
    "#labelIndexer = StringIndexer(inputCol=\"label\", outputCol=\"indexedLabel\")\n",
    "\n",
    "data_prep_pipe = Pipeline(stages=[tokenizer,stopremove, count_vec])\n",
    "cleaner_lr = data_prep_pipe.fit(training_df)\n",
    "data_lr = cleaner_lr.transform(training_df)\n",
    "\n",
    "data_lr = data_lr.select(['label','features'])"
   ]
  },
  {
   "cell_type": "markdown",
   "metadata": {},
   "source": [
    "# Logistic Regression"
   ]
  },
  {
   "cell_type": "code",
   "execution_count": 20,
   "metadata": {},
   "outputs": [],
   "source": [
    "# Split the data into training and test sets (10% held out for testing)\n",
    "(trainingData, testData) = data_lr.randomSplit([0.9, 0.1])\n",
    "\n",
    "# We can also use the multinomial family for binary classification\n",
    "mlr = LogisticRegression(family=\"multinomial\")\n",
    "\n",
    "# Train model.  This also runs the indexers.\n",
    "model_lr = mlr.fit(trainingData)"
   ]
  },
  {
   "cell_type": "code",
   "execution_count": 36,
   "metadata": {},
   "outputs": [],
   "source": [
    "# save_model(\"logistic_regression\", model_lr)"
   ]
  },
  {
   "cell_type": "code",
   "execution_count": 37,
   "metadata": {},
   "outputs": [
    {
     "name": "stdout",
     "output_type": "stream",
     "text": [
      "./models/sentiment_analysis_ML/logistic_regression\n"
     ]
    }
   ],
   "source": [
    "# path = os.path.join(MODELS_STORE_PATH, \"logistic_regression\")\n",
    "# saved_model_lr = load_model(path, LogisticRegressionModel)"
   ]
  },
  {
   "cell_type": "code",
   "execution_count": 38,
   "metadata": {},
   "outputs": [
    {
     "name": "stdout",
     "output_type": "stream",
     "text": [
      "Accuracy of model at predicting sentiment wiht logistic regression is: 0.6467255384703975\n"
     ]
    }
   ],
   "source": [
    "# Make predictions.\n",
    "# predictions_lr = saved_model_lr.transform(testData)\n",
    "# acc = acc_eval.evaluate(predictions_lr)\n",
    "# print(\"Accuracy of model at predicting sentiment wiht logistic regression is: {}\".format(acc))"
   ]
  },
  {
   "cell_type": "code",
   "execution_count": 19,
   "metadata": {},
   "outputs": [
    {
     "name": "stdout",
     "output_type": "stream",
     "text": [
      "Accuracy of model at predicting sentiment wiht logistic regression is: 0.750852408946616\n"
     ]
    }
   ],
   "source": [
    "# Make predictions.\n",
    "predictions_lr = model_lr.transform(testData)\n",
    "acc = acc_eval.evaluate(predictions_lr)\n",
    "print(\"Accuracy of model at predicting sentiment wiht logistic regression is: {}\".format(acc))"
   ]
  },
  {
   "cell_type": "markdown",
   "metadata": {},
   "source": [
    "# Linear SVM"
   ]
  },
  {
   "cell_type": "code",
   "execution_count": 18,
   "metadata": {},
   "outputs": [],
   "source": [
    "# Split the data into training and test sets (10% held out for testing)\n",
    "(trainingData, testData) = data_lr.randomSplit([0.9, 0.1])\n",
    "# Train model.\n",
    "svm = LinearSVC(maxIter= 10)\n",
    "model_svm = svm.fit(trainingData)"
   ]
  },
  {
   "cell_type": "code",
   "execution_count": null,
   "metadata": {},
   "outputs": [],
   "source": [
    "# save_model(\"svm\", model_svm)"
   ]
  },
  {
   "cell_type": "code",
   "execution_count": 24,
   "metadata": {},
   "outputs": [
    {
     "name": "stdout",
     "output_type": "stream",
     "text": [
      "Accuracy of model at predicting sentiment with SVM is: 0.7707139719967024\n"
     ]
    }
   ],
   "source": [
    "# Make predictions.\n",
    "predictions_svm = model_svm.transform(testData)\n",
    "acc = acc_eval.evaluate(predictions_svm)\n",
    "print(\"Accuracy of model at predicting sentiment with SVM is: {}\".format(acc))"
   ]
  },
  {
   "cell_type": "markdown",
   "metadata": {},
   "source": [
    "# Naive Bayes"
   ]
  },
  {
   "cell_type": "markdown",
   "metadata": {},
   "source": [
    "## Preparing data for Naive Bayes"
   ]
  },
  {
   "cell_type": "code",
   "execution_count": 17,
   "metadata": {},
   "outputs": [],
   "source": [
    "tokenizer = Tokenizer(inputCol=\"text\", outputCol=\"token_text\")\n",
    "stopremove = StopWordsRemover(inputCol='token_text',outputCol='stop_tokens')\n",
    "count_vec = CountVectorizer(inputCol='stop_tokens',outputCol='c_vec')\n",
    "idf = IDF(inputCol=\"c_vec\", outputCol=\"tf_idf\")\n",
    "clean_up = VectorAssembler(inputCols=['tf_idf','length'],outputCol='features')\n",
    "\n",
    "data_prep_pipe = Pipeline(stages=[tokenizer,stopremove, count_vec, idf, clean_up])\n",
    "cleaner_nb = data_prep_pipe.fit(training_df)\n",
    "data_np = cleaner_nb.transform(training_df)\n",
    "data_np = data_np.select(['label', 'features'])"
   ]
  },
  {
   "cell_type": "code",
   "execution_count": 18,
   "metadata": {},
   "outputs": [],
   "source": [
    "# Split the data into training and test sets (10% held out for testing)\n",
    "(trainingData,testData) = data_np.randomSplit([0.9,0.1], seed=42)\n",
    "\n",
    "# Train the Model\n",
    "nb = NaiveBayes()\n",
    "model_nb = nb.fit(trainingData)"
   ]
  },
  {
   "cell_type": "code",
   "execution_count": null,
   "metadata": {},
   "outputs": [],
   "source": [
    "save_model(\"naive_bayes\", model_nb)"
   ]
  },
  {
   "cell_type": "code",
   "execution_count": 19,
   "metadata": {},
   "outputs": [
    {
     "name": "stdout",
     "output_type": "stream",
     "text": [
      "Accuracy of model at predicting sentiment with Naive Bayes is: 0.7422832448858636\n"
     ]
    }
   ],
   "source": [
    "# Make Prediction\n",
    "predictions_nb =model_nb.transform(testData)\n",
    "\n",
    "acc = acc_eval.evaluate(predictions_nb)\n",
    "print(\"Accuracy of model at predicting sentiment with Naive Bayes is: {}\".format(acc))"
   ]
  },
  {
   "cell_type": "markdown",
   "metadata": {},
   "source": [
    "# Multilayer Perceptron Classifier"
   ]
  },
  {
   "cell_type": "markdown",
   "metadata": {},
   "source": [
    "## Preparing data for MLP"
   ]
  },
  {
   "cell_type": "code",
   "execution_count": 17,
   "metadata": {},
   "outputs": [],
   "source": [
    "tokenizer = Tokenizer(inputCol=\"text\", outputCol=\"token_text\")\n",
    "stopremove = StopWordsRemover(inputCol='token_text',outputCol='stop_tokens')\n",
    "word2vec = Word2Vec(inputCol='stop_tokens', outputCol = 'words_vector') \n",
    "clean_up = VectorAssembler(inputCols=['words_vector','length'],outputCol='features')\n",
    "\n",
    "data_prep_pipe = Pipeline(stages=[tokenizer,stopremove,word2vec, clean_up])\n",
    "cleaner_mlp = data_prep_pipe.fit(training_df)\n",
    "data_mlp = cleaner_mlp.transform(training_df)\n",
    "data_mlp = data_mlp.select(['label','features'])"
   ]
  },
  {
   "cell_type": "code",
   "execution_count": 18,
   "metadata": {},
   "outputs": [],
   "source": [
    "(training, testing) = data_mlp.randomSplit([0.9,0.1])\n",
    "\n",
    "layers = [101, 25, 2]\n",
    "mlp = MultilayerPerceptronClassifier(layers= layers)\n",
    "model_mlp = mlp.fit(training)"
   ]
  },
  {
   "cell_type": "code",
   "execution_count": 19,
   "metadata": {},
   "outputs": [
    {
     "name": "stdout",
     "output_type": "stream",
     "text": [
      "Accuracy of model at predicting sentiment was using MLP: 0.6715418982239492\n"
     ]
    }
   ],
   "source": [
    "predictions_mlp = model_mlp.transform(testing)\n",
    "acc = acc_eval.evaluate(predictions_mlp)\n",
    "print(\"Accuracy of model at predicting sentiment using MLP is: {}\".format(acc))"
   ]
  },
  {
   "cell_type": "markdown",
   "metadata": {},
   "source": [
    "# Preprocessed Tweets"
   ]
  },
  {
   "cell_type": "code",
   "execution_count": null,
   "metadata": {},
   "outputs": [],
   "source": [
    "extract_tar_file(tgz_name=\"preproccessed_tweets_date.tar.gz\")"
   ]
  },
  {
   "cell_type": "code",
   "execution_count": 5,
   "metadata": {},
   "outputs": [],
   "source": [
    "h_avg = spark.read.json('./datasets/sentiment_analysis/tweets_avg_happiness.json')\n",
    "h_words = spark.read.json('./datasets/sentiment_analysis/tweets_classification.json')"
   ]
  },
  {
   "cell_type": "code",
   "execution_count": 6,
   "metadata": {},
   "outputs": [
    {
     "name": "stdout",
     "output_type": "stream",
     "text": [
      "+--------------------+-------------+\n",
      "|                date|happiness_avg|\n",
      "+--------------------+-------------+\n",
      "|2018-06-15T11:23:...|        6.595|\n",
      "|2018-06-15T11:23:...|        6.454|\n",
      "+--------------------+-------------+\n",
      "only showing top 2 rows\n",
      "\n"
     ]
    }
   ],
   "source": [
    "h_avg.show(2)"
   ]
  },
  {
   "cell_type": "code",
   "execution_count": 7,
   "metadata": {},
   "outputs": [
    {
     "name": "stdout",
     "output_type": "stream",
     "text": [
      "+--------------------+--------------------+\n",
      "|                date|     happiness_words|\n",
      "+--------------------+--------------------+\n",
      "|2018-06-15T11:23:...|[good, work, get,...|\n",
      "|2018-06-15T11:23:...|[next, peeps, enj...|\n",
      "+--------------------+--------------------+\n",
      "only showing top 2 rows\n",
      "\n"
     ]
    }
   ],
   "source": [
    "h_words.show(2)"
   ]
  },
  {
   "cell_type": "markdown",
   "metadata": {},
   "source": [
    "**Some extre cleaning**"
   ]
  },
  {
   "cell_type": "code",
   "execution_count": 8,
   "metadata": {},
   "outputs": [],
   "source": [
    "h_words = h_words.withColumn('date' , regexp_replace('date', \"[\\.tT]\", ' '))\n",
    "h_avg = h_avg.withColumn('date' , regexp_replace('date', \"[\\.tT]\", ' '))\n",
    "\n",
    "split_col = pyspark.sql.functions.split(h_words['date'], ' ')\n",
    "h_words = h_words.withColumn('time', split_col.getItem(1))\n",
    "h_words = h_words.withColumn('date', split_col.getItem(0))\n",
    "h_words = h_words.withColumn('date' , (concat(col(\"date\"), lit(\" \"), col(\"time\")))).drop('time')\n",
    "\n",
    "split_col = pyspark.sql.functions.split(h_avg['date'], ' ')\n",
    "h_avg = h_avg.withColumn('time', split_col.getItem(1))\n",
    "h_avg = h_avg.withColumn('date', split_col.getItem(0))\n",
    "h_avg = h_avg.withColumn('date' , (concat(col(\"date\"), lit(\" \"), col(\"time\")))).drop('time')\n",
    "\n",
    "h_words = h_words.createOrReplaceTempView('h_words')\n",
    "h_words = spark.sql('select row_number() over (order by \"date\") as num, * from h_words')\n",
    "\n",
    "h_avg.createOrReplaceTempView('h_avg')\n",
    "h_avg = spark.sql('select row_number() over (order by \"date\") as num, * from h_avg')"
   ]
  },
  {
   "cell_type": "code",
   "execution_count": 9,
   "metadata": {},
   "outputs": [
    {
     "name": "stdout",
     "output_type": "stream",
     "text": [
      "+---+-------------------+--------------------+\n",
      "|num|               date|     happiness_words|\n",
      "+---+-------------------+--------------------+\n",
      "|  1|2018-06-15 11:23:49|[good, work, get,...|\n",
      "|  2|2018-06-15 11:23:49|[next, peeps, enj...|\n",
      "+---+-------------------+--------------------+\n",
      "only showing top 2 rows\n",
      "\n"
     ]
    }
   ],
   "source": [
    "h_words.show(2)"
   ]
  },
  {
   "cell_type": "code",
   "execution_count": 10,
   "metadata": {},
   "outputs": [],
   "source": [
    "# joining two dataframe (h_words, h_avg)\n",
    "\n",
    "h_avg_words = h_words.join(h_avg, on='num', how = 'inner')\\\n",
    "                                    .drop('num').select(col('h_words.date').alias('date'),\\\n",
    "                                    col('happiness_words').alias('happiness_words'),\\\n",
    "                                    col('happiness_avg').alias('happiness_avg'))"
   ]
  },
  {
   "cell_type": "code",
   "execution_count": 11,
   "metadata": {},
   "outputs": [
    {
     "name": "stdout",
     "output_type": "stream",
     "text": [
      "+-------------------+--------------------+-------------+\n",
      "|               date|     happiness_words|happiness_avg|\n",
      "+-------------------+--------------------+-------------+\n",
      "|2018-06-15 11:23:49|[good, work, get,...|        6.595|\n",
      "|2018-06-15 11:23:49|[next, peeps, enj...|        6.454|\n",
      "+-------------------+--------------------+-------------+\n",
      "only showing top 2 rows\n",
      "\n"
     ]
    }
   ],
   "source": [
    "h_avg_words.show(2)"
   ]
  },
  {
   "cell_type": "code",
   "execution_count": 12,
   "metadata": {},
   "outputs": [
    {
     "name": "stdout",
     "output_type": "stream",
     "text": [
      "+-------------------+--------------------+-------------+--------------------+\n",
      "|               date|     happiness_words|happiness_avg|                text|\n",
      "+-------------------+--------------------+-------------+--------------------+\n",
      "|2018-06-15 11:23:49|[good, work, get,...|        6.595|good work get wor...|\n",
      "|2018-06-15 11:23:49|[next, peeps, enj...|        6.454|next peeps enjoy ...|\n",
      "+-------------------+--------------------+-------------+--------------------+\n",
      "only showing top 2 rows\n",
      "\n"
     ]
    }
   ],
   "source": [
    "# removing the instances with less than four words\n",
    "h_avg_words = h_avg_words.where(size(col(\"happiness_words\")) >= 4)\n",
    "h_avg_words = h_avg_words.withColumn(\"text\", concat_ws(\" \", \"happiness_words\"))\n",
    "h_avg_words.show(2)"
   ]
  },
  {
   "cell_type": "code",
   "execution_count": null,
   "metadata": {},
   "outputs": [],
   "source": [
    "data_happiness = cleaner_lr.transform(h_avg_words)\n",
    "data_happainess = data_happiness.select('date','happiness_avg','features')\n",
    "happiness_prediction =model_lr.transform(data_happainess)\n",
    "happiness_prediction.show(2)"
   ]
  },
  {
   "cell_type": "code",
   "execution_count": 33,
   "metadata": {},
   "outputs": [
    {
     "data": {
      "text/plain": [
       "165084"
      ]
     },
     "execution_count": 33,
     "metadata": {},
     "output_type": "execute_result"
    }
   ],
   "source": [
    "happiness_prediction.where((col(\"happiness_avg\") > 6.0) & (col(\"prediction\") == 1)).count()"
   ]
  },
  {
   "cell_type": "code",
   "execution_count": 34,
   "metadata": {},
   "outputs": [
    {
     "data": {
      "text/plain": [
       "34617"
      ]
     },
     "execution_count": 34,
     "metadata": {},
     "output_type": "execute_result"
    }
   ],
   "source": [
    "happiness_prediction.where((col(\"happiness_avg\") > 6.0) & (col(\"prediction\") == 0)).count()"
   ]
  },
  {
   "cell_type": "code",
   "execution_count": 35,
   "metadata": {},
   "outputs": [
    {
     "data": {
      "text/plain": [
       "1145"
      ]
     },
     "execution_count": 35,
     "metadata": {},
     "output_type": "execute_result"
    }
   ],
   "source": [
    "happiness_prediction.where((col(\"happiness_avg\") < 4.0) & (col(\"prediction\") == 0)).count()"
   ]
  },
  {
   "cell_type": "code",
   "execution_count": 36,
   "metadata": {},
   "outputs": [
    {
     "data": {
      "text/plain": [
       "1963"
      ]
     },
     "execution_count": 36,
     "metadata": {},
     "output_type": "execute_result"
    }
   ],
   "source": [
    "happiness_prediction.where((col(\"happiness_avg\") < 4.0) & (col(\"prediction\") == 1)).count()"
   ]
  },
  {
   "cell_type": "code",
   "execution_count": 37,
   "metadata": {},
   "outputs": [
    {
     "data": {
      "text/plain": [
       "127640"
      ]
     },
     "execution_count": 37,
     "metadata": {},
     "output_type": "execute_result"
    }
   ],
   "source": [
    "happiness_prediction.where((col(\"happiness_avg\")>= 4.0) & (col(\"happiness_avg\")<= 6.0)).count()"
   ]
  },
  {
   "cell_type": "code",
   "execution_count": 38,
   "metadata": {},
   "outputs": [
    {
     "data": {
      "text/plain": [
       "330449"
      ]
     },
     "execution_count": 38,
     "metadata": {},
     "output_type": "execute_result"
    }
   ],
   "source": [
    "happiness_prediction.count()"
   ]
  },
  {
   "cell_type": "code",
   "execution_count": 39,
   "metadata": {},
   "outputs": [
    {
     "data": {
      "text/plain": [
       "202809"
      ]
     },
     "execution_count": 39,
     "metadata": {},
     "output_type": "execute_result"
    }
   ],
   "source": [
    "330449-127640"
   ]
  },
  {
   "cell_type": "code",
   "execution_count": 14,
   "metadata": {},
   "outputs": [],
   "source": [
    "df = h_avg_words.where((col(\"happiness_avg\")< 4.0) | (col(\"happiness_avg\")> 6.0))"
   ]
  },
  {
   "cell_type": "code",
   "execution_count": 15,
   "metadata": {},
   "outputs": [
    {
     "data": {
      "text/plain": [
       "202809"
      ]
     },
     "execution_count": 15,
     "metadata": {},
     "output_type": "execute_result"
    }
   ],
   "source": [
    "df.count()"
   ]
  },
  {
   "cell_type": "code",
   "execution_count": 25,
   "metadata": {},
   "outputs": [],
   "source": [
    "df = h_avg_words.withColumn(\"label\", F.when(h_avg_words[\"happiness_avg\"]<4, 0).\\\n",
    "                            when(h_avg_words[\"happiness_avg\"]>6, 1).otherwise('Neutral'))"
   ]
  },
  {
   "cell_type": "code",
   "execution_count": 26,
   "metadata": {},
   "outputs": [],
   "source": [
    "df = df.toPandas()"
   ]
  },
  {
   "cell_type": "code",
   "execution_count": 27,
   "metadata": {},
   "outputs": [
    {
     "name": "stdout",
     "output_type": "stream",
     "text": [
      "Saving figure tweets_label_distribution\n"
     ]
    },
    {
     "data": {
      "image/png": "[encoded data removed]",
      "text/plain": [
       "<Figure size 432x288 with 1 Axes>"
      ]
     },
     "metadata": {},
     "output_type": "display_data"
    }
   ],
   "source": [
    "df['label'].value_counts().plot(kind='bar' , )\n",
    "save_fig(\"tweets_label_distribution\")"
   ]
  },
  {
   "cell_type": "code",
   "execution_count": 43,
   "metadata": {},
   "outputs": [
    {
     "data": {
      "text/html": [
       "<div>\n",
       "<style scoped>\n",
       "    .dataframe tbody tr th:only-of-type {\n",
       "        vertical-align: middle;\n",
       "    }\n",
       "\n",
       "    .dataframe tbody tr th {\n",
       "        vertical-align: top;\n",
       "    }\n",
       "\n",
       "    .dataframe thead th {\n",
       "        text-align: right;\n",
       "    }\n",
       "</style>\n",
       "<table border=\"1\" class=\"dataframe\">\n",
       "  <thead>\n",
       "    <tr style=\"text-align: right;\">\n",
       "      <th></th>\n",
       "      <th>date</th>\n",
       "      <th>happiness_words</th>\n",
       "      <th>happiness_avg</th>\n",
       "      <th>text</th>\n",
       "    </tr>\n",
       "  </thead>\n",
       "  <tbody>\n",
       "    <tr>\n",
       "      <th>0</th>\n",
       "      <td>2018-06-15 11:23:49</td>\n",
       "      <td>[good, work, get, worldcup]</td>\n",
       "      <td>6.595</td>\n",
       "      <td>good work get worldcup</td>\n",
       "    </tr>\n",
       "    <tr>\n",
       "      <th>1</th>\n",
       "      <td>2018-06-15 11:23:49</td>\n",
       "      <td>[next, peeps, enjoy, games, please, spare, tim...</td>\n",
       "      <td>6.454</td>\n",
       "      <td>next peeps enjoy games please spare time preci...</td>\n",
       "    </tr>\n",
       "  </tbody>\n",
       "</table>\n",
       "</div>"
      ],
      "text/plain": [
       "                  date                                    happiness_words  \\\n",
       "0  2018-06-15 11:23:49                        [good, work, get, worldcup]   \n",
       "1  2018-06-15 11:23:49  [next, peeps, enjoy, games, please, spare, tim...   \n",
       "\n",
       "   happiness_avg                                               text  \n",
       "0          6.595                             good work get worldcup  \n",
       "1          6.454  next peeps enjoy games please spare time preci...  "
      ]
     },
     "execution_count": 43,
     "metadata": {},
     "output_type": "execute_result"
    }
   ],
   "source": [
    "haw_pandas.head(2)"
   ]
  },
  {
   "cell_type": "code",
   "execution_count": null,
   "metadata": {},
   "outputs": [],
   "source": []
  }
 ],
 "metadata": {
  "anaconda-cloud": {},
  "kernelspec": {
   "display_name": "Python 3",
   "language": "python",
   "name": "python3"
  },
  "language_info": {
   "codemirror_mode": {
    "name": "ipython",
    "version": 3
   },
   "file_extension": ".py",
   "mimetype": "text/x-python",
   "name": "python",
   "nbconvert_exporter": "python",
   "pygments_lexer": "ipython3",
   "version": "3.6.8"
  }
 },
 "nbformat": 4,
 "nbformat_minor": 1
}
