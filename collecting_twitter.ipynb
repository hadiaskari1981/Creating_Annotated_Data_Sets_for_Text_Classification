{
 "cells": [
  {
   "cell_type": "code",
   "execution_count": null,
   "metadata": {},
   "outputs": [],
   "source": []
  },
  {
   "cell_type": "code",
   "execution_count": 3,
   "metadata": {},
   "outputs": [],
   "source": [
    "import tweepy\n",
    "import csv\n",
    "import pandas as pd\n",
    "from datetime import datetime"
   ]
  },
  {
   "cell_type": "code",
   "execution_count": null,
   "metadata": {},
   "outputs": [],
   "source": [
    "consumer_key = 'RR6miKQ2GKE4cSKj889737iMr'\n",
    "consumer_secret = 'FLLMME41CmVgCRGrydyoBFR3cmJWTpAmkndyjJI29NvkdYXlrE'\n",
    "access_token = '2520042060-gTmuDa7yaKLWcJhJLq5igkwckTFBdqCBT9OopIh'\n",
    "access_token_secret = 'tm6UVzoCPPO7L9Hiq9blymj0pVb5v0YMVEZdl2DLnaVLp'\n",
    "\n",
    "auth = tweepy.OAuthHandler(consumer_key, consumer_secret)\n",
    "auth.set_access_token(access_token, access_token_secret)\n",
    "api = tweepy.API(auth, wait_on_rate_limit=True)\n",
    "# Open/Create a file to append data\n",
    "csvFile = open('Tweets_WC_15_2_07.csv', 'a')\n",
    "#Use csv Writer\n",
    "csvWriter = csv.writer(csvFile)\n",
    "\n",
    "for tweet in tweepy.Cursor(api.search, q=\"#WorldCupFinal2018\" ,count=5,\n",
    "                           lang=\"en\").items():\n",
    "    csvWriter.writerow([tweet.created_at, (tweet.text).encode('utf-8'), tweet.retweets])"
   ]
  },
  {
   "cell_type": "code",
   "execution_count": null,
   "metadata": {},
   "outputs": [],
   "source": [
    "\n",
    "####input your credentials here\n",
    "\n",
    "consumer_key = 'RR6miKQ2GKE4cSKj889737iMr'\n",
    "consumer_secret = 'FLLMME41CmVgCRGrydyoBFR3cmJWTpAmkndyjJI29NvkdYXlrE'\n",
    "access_token = '2520042060-gTmuDa7yaKLWcJhJLq5igkwckTFBdqCBT9OopIh'\n",
    "access_token_secret = 'tm6UVzoCPPO7L9Hiq9blymj0pVb5v0YMVEZdl2DLnaVLp'\n",
    "\n",
    "auth = tweepy.OAuthHandler(consumer_key, consumer_secret)\n",
    "auth.set_access_token(access_token, access_token_secret)\n",
    "api = tweepy.API(auth,wait_on_rate_limit=True)\n",
    "#####United Airlines\n",
    "# Open/Create a file to append data\n",
    "#csvFile = open('Tweets_WC_14_06.csv', 'a')\n",
    "#Use csv Writer\n",
    "#csvWriter = csv.writer(csvFile)\n",
    "\n",
    "#for tweet in tweepy.Cursor(api.search,q=\"\"#WorldCup OR #WorldCupRussia2018 OR #Rusia2018\"\",count=5000,\n",
    "#                           lang=\"en\",\n",
    "#                           since=\"2017-04-03\").items():\n",
    "#    csvWriter.writerow([tweet.created_at, tweet.text.encode('utf-8'),tweet.retweets])\n",
    "max_tweets = 10000   \n",
    "searched_tweets = []\n",
    "last_id = -1\n",
    "while len(searched_tweets) < max_tweets:\n",
    "    count = max_tweets - len(searched_tweets)\n",
    "    try:\n",
    "        new_tweets = api.search(q=\"#WorldCup OR #WorldCupRussia2018 OR #Rusia2018\" , lang = \"en\", count=count, max_id=str(last_id - 1))\n",
    "        if not new_tweets:\n",
    "            break\n",
    "        searched_tweets.extend(new_tweets)\n",
    "        last_id = new_tweets[-1].id\n",
    "    except tweepy.TweepError as e:\n",
    "        # depending on TweepError.code, one may want to retry or wait\n",
    "        # to keep things simple, we will give up on an error\n",
    "        break\n"
   ]
  },
  {
   "cell_type": "code",
   "execution_count": null,
   "metadata": {},
   "outputs": [],
   "source": [
    "with open(\"searched_tweets.txt\", 'w') as f:\n",
    "    wr = csv.writer(f, quoting=csv.QUOTE_ALL)\n",
    "    wr.writerow(f)\n",
    "\n",
    "f.close()\n"
   ]
  },
  {
   "cell_type": "code",
   "execution_count": null,
   "metadata": {},
   "outputs": [],
   "source": []
  }
 ],
 "metadata": {
  "kernelspec": {
   "display_name": "Python 3",
   "language": "python",
   "name": "python3"
  },
  "language_info": {
   "codemirror_mode": {
    "name": "ipython",
    "version": 3
   },
   "file_extension": ".py",
   "mimetype": "text/x-python",
   "name": "python",
   "nbconvert_exporter": "python",
   "pygments_lexer": "ipython3",
   "version": "3.6.8"
  }
 },
 "nbformat": 4,
 "nbformat_minor": 2
}
